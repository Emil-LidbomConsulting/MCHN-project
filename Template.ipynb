{
 "cells": [
  {
   "cell_type": "markdown",
   "metadata": {},
   "source": [
    "# Title: DM1590 Final Project Template\n",
    "\n",
    "## Authors:\n",
    "\n",
    "---"
   ]
  },
  {
   "cell_type": "markdown",
   "metadata": {},
   "source": [
    "### Background and motivation\n",
    "\n",
    "Describe your problem and why it is interesting and important."
   ]
  },
  {
   "cell_type": "markdown",
   "metadata": {},
   "source": [
    "### Dataset\n",
    "\n",
    "Describe what dataset you are using."
   ]
  },
  {
   "cell_type": "markdown",
   "metadata": {},
   "source": [
    "### Methodology\n",
    "\n",
    "Describe what you are doing and how you are doing it."
   ]
  },
  {
   "cell_type": "markdown",
   "metadata": {},
   "source": [
    "---"
   ]
  },
  {
   "cell_type": "code",
   "execution_count": 3,
   "metadata": {},
   "outputs": [],
   "source": [
    "\"\"\"Import modules\"\"\"\n",
    "import pandas as pd\n",
    "import matplotlib.pyplot as plt"
   ]
  },
  {
   "cell_type": "code",
   "execution_count": 4,
   "metadata": {},
   "outputs": [
    {
     "name": "stdout",
     "output_type": "stream",
     "text": [
      "             0            1      2         3          4          5   \\\n",
      "0     rental_id  building_id   rent  bedrooms  bathrooms  size_sqft   \n",
      "1          1545     44518357   2550         0          1        480   \n",
      "2          2472     94441623  11500         2          2       2000   \n",
      "3         10234     87632265   3000         3          1       1000   \n",
      "4          2919     76909719   4500         1          1        916   \n",
      "...         ...          ...    ...       ...        ...        ...   \n",
      "4996       1964     73060494   2650         1          1        686   \n",
      "4997       5686     92994390   6675         2          2        988   \n",
      "4998       9679      7689663   1699         0          1        250   \n",
      "4999       5188     62828354   3475         1          1        651   \n",
      "5000       4718     67659586   4500         1          1        816   \n",
      "\n",
      "                 6      7                 8       9             10  \\\n",
      "0     min_to_subway  floor  building_age_yrs  no_fee  has_roofdeck   \n",
      "1                 9      2                17       1             1   \n",
      "2                 4      1                96       0             0   \n",
      "3                 4      1               106       0             0   \n",
      "4                 2     51                29       0             1   \n",
      "...             ...    ...               ...     ...           ...   \n",
      "4996              9      4                 3       1             0   \n",
      "4997              5     10                 9       1             1   \n",
      "4998              2      5                96       0             0   \n",
      "4999              6      5                14       1             0   \n",
      "5000              4     11                 9       0             1   \n",
      "\n",
      "                    11           12            13              14         15  \\\n",
      "0     has_washer_dryer  has_doorman  has_elevator  has_dishwasher  has_patio   \n",
      "1                    0            0             1               1          0   \n",
      "2                    0            0             0               0          0   \n",
      "3                    0            0             0               0          0   \n",
      "4                    0            1             1               1          0   \n",
      "...                ...          ...           ...             ...        ...   \n",
      "4996                 0            0             0               0          0   \n",
      "4997                 1            1             1               1          0   \n",
      "4998                 0            0             0               0          0   \n",
      "4999                 1            1             1               1          0   \n",
      "5000                 1            1             1               0          1   \n",
      "\n",
      "           16                 17                   18         19  \n",
      "0     has_gym       neighborhood            submarket    borough  \n",
      "1           1    Upper East Side  All Upper East Side  Manhattan  \n",
      "2           0  Greenwich Village         All Downtown  Manhattan  \n",
      "3           0            Astoria     Northwest Queens     Queens  \n",
      "4           0            Midtown          All Midtown  Manhattan  \n",
      "...       ...                ...                  ...        ...  \n",
      "4996        0            Astoria     Northwest Queens     Queens  \n",
      "4997        1            Tribeca         All Downtown  Manhattan  \n",
      "4998        0       Little Italy         All Downtown  Manhattan  \n",
      "4999        1       Midtown West          All Midtown  Manhattan  \n",
      "5000        1            Tribeca         All Downtown  Manhattan  \n",
      "\n",
      "[5001 rows x 20 columns]\n"
     ]
    }
   ],
   "source": [
    "\"\"\"Import the dataset\"\"\"\n",
    "data_test = pd.read_csv(r'C:\\Users\\zurpr\\Privat\\Skola\\ÅK - 2\\T2\\MCHN\\Projekt\\MCHN-project\\data\\streeteasy.txt',sep=',',header=None)\n",
    "print(data_test)"
   ]
  },
  {
   "cell_type": "markdown",
   "metadata": {},
   "source": [
    "---\n",
    "## Discussion\n",
    "\n",
    "Reflect on your results, and how one might continue to improve them."
   ]
  },
  {
   "cell_type": "markdown",
   "metadata": {},
   "source": [
    "## Acknowledgments\n",
    "\n",
    "For each group member, describe what they did."
   ]
  },
  {
   "cell_type": "markdown",
   "metadata": {},
   "source": [
    "## Final meme\n",
    "\n",
    "Include here a meme describing your experience in this module."
   ]
  },
  {
   "cell_type": "code",
   "execution_count": null,
   "metadata": {},
   "outputs": [],
   "source": []
  }
 ],
 "metadata": {
  "kernelspec": {
   "display_name": "Python 3.10.6 64-bit",
   "language": "python",
   "name": "python3"
  },
  "language_info": {
   "codemirror_mode": {
    "name": "ipython",
    "version": 3
   },
   "file_extension": ".py",
   "mimetype": "text/x-python",
   "name": "python",
   "nbconvert_exporter": "python",
   "pygments_lexer": "ipython3",
   "version": "3.10.6"
  },
  "vscode": {
   "interpreter": {
    "hash": "369f2c481f4da34e4445cda3fffd2e751bd1c4d706f27375911949ba6bb62e1c"
   }
  }
 },
 "nbformat": 4,
 "nbformat_minor": 4
}
