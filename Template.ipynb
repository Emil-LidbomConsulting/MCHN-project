{
 "cells": [
  {
   "cell_type": "markdown",
   "metadata": {},
   "source": [
    "# Title: DM1590 Final Project Template\n",
    "\n",
    "## Authors:\n",
    "\n",
    "---"
   ]
  },
  {
   "cell_type": "markdown",
   "metadata": {},
   "source": [
    "### Background and motivation\n",
    "\n",
    "Describe your problem and why it is interesting and important."
   ]
  },
  {
   "cell_type": "markdown",
   "metadata": {},
   "source": [
    "### Dataset\n",
    "\n",
    "Describe what dataset you are using."
   ]
  },
  {
   "cell_type": "markdown",
   "metadata": {},
   "source": [
    "### Methodology\n",
    "\n",
    "Describe what you are doing and how you are doing it."
   ]
  },
  {
   "cell_type": "markdown",
   "metadata": {},
   "source": [
    "---"
   ]
  },
  {
   "cell_type": "code",
   "execution_count": 4,
   "metadata": {},
   "outputs": [],
   "source": [
    "\"\"\"Import modules\"\"\"\n",
    "import pandas as pd\n",
    "import matplotlib.pyplot as plt"
   ]
  },
  {
   "cell_type": "code",
   "execution_count": 14,
   "metadata": {},
   "outputs": [
    {
     "name": "stdout",
     "output_type": "stream",
     "text": [
      "               0                       1   \\\n",
      "0              id                category   \n",
      "1      5668626895  housing/rent/apartment   \n",
      "2      5664597177  housing/rent/apartment   \n",
      "3      5668626833  housing/rent/apartment   \n",
      "4      5659918074  housing/rent/apartment   \n",
      "...           ...                     ...   \n",
      "9996   5630240092  housing/rent/apartment   \n",
      "9997   5668640983  housing/rent/apartment   \n",
      "9998   5668643292  housing/rent/apartment   \n",
      "9999   5668662559  housing/rent/apartment   \n",
      "10000  5509132540  housing/rent/apartment   \n",
      "\n",
      "                                                      2   \\\n",
      "0                                                  title   \n",
      "1      Studio apartment 2nd St NE, Uhland Terrace NE,...   \n",
      "2                      Studio apartment 814 Schutte Road   \n",
      "3      Studio apartment N Scott St, 14th St N, Arling...   \n",
      "4                         Studio apartment 1717 12th Ave   \n",
      "...                                                  ...   \n",
      "9996                  Five BR 5407 Abbott Place - Abbott   \n",
      "9997                             Six BR 256 Las Entradas   \n",
      "9998                         Six BR 9908 Bentcross Drive   \n",
      "9999                         One BR in New York NY 10069   \n",
      "10000         Beautiful Lawrenceville Apartment for rent   \n",
      "\n",
      "                                                      3   \\\n",
      "0                                                   body   \n",
      "1      This unit is located at second St NE, Uhland T...   \n",
      "2      This unit is located at 814 Schutte Road, Evan...   \n",
      "3      This unit is located at N Scott St, 14th St N,...   \n",
      "4      This unit is located at 1717 12th Ave, Seattle...   \n",
      "...                                                  ...   \n",
      "9996   This unit is located at 5407 Abbott Place - Ab...   \n",
      "9997   This unit is located at 256 Las Entradas, Mont...   \n",
      "9998   This unit is located at 9908 Bentcross Drive, ...   \n",
      "9999   Monthly Rent$4,605 -to $4,790AmenitiesThe Aldy...   \n",
      "10000  Square footage: 880 sq. feet, unit number: 150...   \n",
      "\n",
      "                                                      4          5         6   \\\n",
      "0                                              amenities  bathrooms  bedrooms   \n",
      "1                                                    NaN        NaN         0   \n",
      "2                                                    NaN        NaN         1   \n",
      "3                                                    NaN          1         0   \n",
      "4                                                    NaN          1         0   \n",
      "...                                                  ...        ...       ...   \n",
      "9996                                                 NaN          4         5   \n",
      "9997                                                 NaN          8         6   \n",
      "9998                                                 NaN        8.5         6   \n",
      "9999   Basketball,Cable or Satellite,Doorman,Hot Tub,...        NaN         1   \n",
      "10000                                     Gym,Patio/Deck          1         1   \n",
      "\n",
      "             7    8          9   ...             12          13           14  \\\n",
      "0      currency  fee  has_photo  ...  price_display  price_type  square_feet   \n",
      "1           USD   No  Thumbnail  ...           $790     Monthly          101   \n",
      "2           USD   No  Thumbnail  ...           $425     Monthly          106   \n",
      "3           USD   No  Thumbnail  ...         $1,390     Monthly          107   \n",
      "4           USD   No  Thumbnail  ...           $925     Monthly          116   \n",
      "...         ...  ...        ...  ...            ...         ...          ...   \n",
      "9996        USD   No  Thumbnail  ...         $6,000     Monthly         6300   \n",
      "9997        USD   No  Thumbnail  ...        $25,000     Monthly         8716   \n",
      "9998        USD   No  Thumbnail  ...        $11,000     Monthly        11318   \n",
      "9999        USD   No  Thumbnail  ...         $4,790     Monthly        40000   \n",
      "10000       USD   No         No  ...         $1,009     Monthly          880   \n",
      "\n",
      "                              15             16     17        18         19  \\\n",
      "0                        address       cityname  state  latitude  longitude   \n",
      "1                            NaN     Washington     DC   38.9057   -76.9861   \n",
      "2                 814 Schutte Rd     Evansville     IN   37.9680   -87.6621   \n",
      "3                            NaN      Arlington     VA   38.8910   -77.0816   \n",
      "4               1717 12th Avenue        Seattle     WA   47.6160  -122.3275   \n",
      "...                          ...            ...    ...       ...        ...   \n",
      "9996   5407 Abbott Place  Abbott          Edina     MN   44.9000   -93.3233   \n",
      "9997            256 Las Entradas      Montecito     CA   34.4331  -119.6331   \n",
      "9998           9908 Bentcross Dr        Potomac     MD   39.0287   -77.2409   \n",
      "9999                         NaN       New York     NY   40.7716   -73.9876   \n",
      "10000                        NaN  Lawrenceville     GA   34.0072   -84.0034   \n",
      "\n",
      "                 20          21  \n",
      "0            source        time  \n",
      "1         RentLingo  1577359415  \n",
      "2         RentLingo  1577017063  \n",
      "3         RentLingo  1577359410  \n",
      "4         RentLingo  1576667743  \n",
      "...             ...         ...  \n",
      "9996      RentLingo  1575112975  \n",
      "9997      RentLingo  1577360419  \n",
      "9998      RentLingo  1577360560  \n",
      "9999       Listanza  1577362186  \n",
      "10000  RentDigs.com  1577362141  \n",
      "\n",
      "[10001 rows x 22 columns]\n"
     ]
    }
   ],
   "source": [
    "\"\"\"Import the dataset\"\"\"\n",
    "df = pd.read_csv(r\"./data\\apartments_for_rent_classified_10K.csv\",sep=';',header=None, encoding=\"cp1252\")\n",
    "print(df)"
   ]
  },
  {
   "cell_type": "markdown",
   "metadata": {},
   "source": [
    "---\n",
    "## Discussion\n",
    "\n",
    "Reflect on your results, and how one might continue to improve them."
   ]
  },
  {
   "cell_type": "markdown",
   "metadata": {},
   "source": [
    "## Acknowledgments\n",
    "\n",
    "For each group member, describe what they did."
   ]
  },
  {
   "cell_type": "markdown",
   "metadata": {},
   "source": [
    "## Final meme\n",
    "\n",
    "Include here a meme describing your experience in this module."
   ]
  },
  {
   "cell_type": "code",
   "execution_count": null,
   "metadata": {},
   "outputs": [],
   "source": []
  }
 ],
 "metadata": {
  "kernelspec": {
   "display_name": "Python 3.10.6 64-bit",
   "language": "python",
   "name": "python3"
  },
  "language_info": {
   "codemirror_mode": {
    "name": "ipython",
    "version": 3
   },
   "file_extension": ".py",
   "mimetype": "text/x-python",
   "name": "python",
   "nbconvert_exporter": "python",
   "pygments_lexer": "ipython3",
   "version": "3.10.6"
  },
  "vscode": {
   "interpreter": {
    "hash": "369f2c481f4da34e4445cda3fffd2e751bd1c4d706f27375911949ba6bb62e1c"
   }
  }
 },
 "nbformat": 4,
 "nbformat_minor": 4
}
